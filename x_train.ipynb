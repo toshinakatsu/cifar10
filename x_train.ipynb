{
  "nbformat": 4,
  "nbformat_minor": 0,
  "metadata": {
    "colab": {
      "name": "cifar10_x_train.ipynb",
      "provenance": [],
      "authorship_tag": "ABX9TyNu/k9aPtxlF/8Z7DhmRQTc",
      "include_colab_link": true
    },
    "kernelspec": {
      "name": "python3",
      "display_name": "Python 3"
    },
    "language_info": {
      "name": "python"
    }
  },
  "cells": [
    {
      "cell_type": "markdown",
      "metadata": {
        "id": "view-in-github",
        "colab_type": "text"
      },
      "source": [
        "<a href=\"https://colab.research.google.com/github/toshinakatsu/cifar10/blob/main/x_train.ipynb\" target=\"_parent\"><img src=\"https://colab.research.google.com/assets/colab-badge.svg\" alt=\"Open In Colab\"/></a>"
      ]
    },
    {
      "cell_type": "markdown",
      "source": [
        "## x_trainについて"
      ],
      "metadata": {
        "id": "e-V4kbv0JokZ"
      }
    },
    {
      "cell_type": "code",
      "source": [
        "x_train.shape"
      ],
      "metadata": {
        "colab": {
          "base_uri": "https://localhost:8080/"
        },
        "id": "NVkEHNLMg-Fy",
        "outputId": "d2dbcd5e-d183-4dad-e6b0-027652dd7909"
      },
      "execution_count": null,
      "outputs": [
        {
          "output_type": "execute_result",
          "data": {
            "text/plain": [
              "(50000, 32, 32, 3)"
            ]
          },
          "metadata": {},
          "execution_count": 10
        }
      ]
    },
    {
      "cell_type": "markdown",
      "source": [
        "### shape[0]は枚数を表す"
      ],
      "metadata": {
        "id": "E_7AHgsUKX14"
      }
    },
    {
      "cell_type": "markdown",
      "source": [
        "**x_train.shape[0] の次元は、画像の枚数を表します。**"
      ],
      "metadata": {
        "id": "y6_uKRiXAwvX"
      }
    },
    {
      "cell_type": "markdown",
      "source": [
        "**例１. 1枚目の画像を表示する。**\n",
        "\n",
        "---"
      ],
      "metadata": {
        "id": "U0zLLF0vBPeG"
      }
    },
    {
      "cell_type": "code",
      "source": [
        "plt.imshow(x_train[0, :, :, :])"
      ],
      "metadata": {
        "colab": {
          "base_uri": "https://localhost:8080/",
          "height": 282
        },
        "id": "7fa91ChShFeP",
        "outputId": "3cc61c27-107d-4462-aa0d-f5db71d1717a"
      },
      "execution_count": null,
      "outputs": [
        {
          "output_type": "execute_result",
          "data": {
            "text/plain": [
              "<matplotlib.image.AxesImage at 0x7fec4feaec10>"
            ]
          },
          "metadata": {},
          "execution_count": 11
        },
        {
          "output_type": "display_data",
          "data": {
            "text/plain": [
              "<Figure size 432x288 with 1 Axes>"
            ],
            "image/png": "[encoded data removed]"
          },
          "metadata": {
            "needs_background": "light"
          }
        }
      ]
    },
    {
      "cell_type": "code",
      "source": [
        "# 1枚目の画像配列\n",
        "x_train[0, :, :, :]"
      ],
      "metadata": {
        "colab": {
          "base_uri": "https://localhost:8080/"
        },
        "id": "Vwm43E7jhoiX",
        "outputId": "d37635fb-a38a-45f4-f2a2-891fa6c567bc"
      },
      "execution_count": null,
      "outputs": [
        {
          "output_type": "execute_result",
          "data": {
            "text/plain": [
              "array([[[ 59,  62,  63],\n",
              "        [ 43,  46,  45],\n",
              "        [ 50,  48,  43],\n",
              "        ...,\n",
              "        [158, 132, 108],\n",
              "        [152, 125, 102],\n",
              "        [148, 124, 103]],\n",
              "\n",
              "       [[ 16,  20,  20],\n",
              "        [  0,   0,   0],\n",
              "        [ 18,   8,   0],\n",
              "        ...,\n",
              "        [123,  88,  55],\n",
              "        [119,  83,  50],\n",
              "        [122,  87,  57]],\n",
              "\n",
              "       [[ 25,  24,  21],\n",
              "        [ 16,   7,   0],\n",
              "        [ 49,  27,   8],\n",
              "        ...,\n",
              "        [118,  84,  50],\n",
              "        [120,  84,  50],\n",
              "        [109,  73,  42]],\n",
              "\n",
              "       ...,\n",
              "\n",
              "       [[208, 170,  96],\n",
              "        [201, 153,  34],\n",
              "        [198, 161,  26],\n",
              "        ...,\n",
              "        [160, 133,  70],\n",
              "        [ 56,  31,   7],\n",
              "        [ 53,  34,  20]],\n",
              "\n",
              "       [[180, 139,  96],\n",
              "        [173, 123,  42],\n",
              "        [186, 144,  30],\n",
              "        ...,\n",
              "        [184, 148,  94],\n",
              "        [ 97,  62,  34],\n",
              "        [ 83,  53,  34]],\n",
              "\n",
              "       [[177, 144, 116],\n",
              "        [168, 129,  94],\n",
              "        [179, 142,  87],\n",
              "        ...,\n",
              "        [216, 184, 140],\n",
              "        [151, 118,  84],\n",
              "        [123,  92,  72]]], dtype=uint8)"
            ]
          },
          "metadata": {},
          "execution_count": 12
        }
      ]
    },
    {
      "cell_type": "markdown",
      "source": [
        "**例２. 2枚目の画像を表示する。**\n",
        "\n",
        "---"
      ],
      "metadata": {
        "id": "OsvvNBAwBwFg"
      }
    },
    {
      "cell_type": "code",
      "source": [
        "plt.imshow(x_train[1, :, :, :])"
      ],
      "metadata": {
        "colab": {
          "base_uri": "https://localhost:8080/",
          "height": 282
        },
        "outputId": "993a47ef-976d-473e-89a8-d98dcb57cb5a",
        "id": "wcpgiJoVAY8G"
      },
      "execution_count": null,
      "outputs": [
        {
          "output_type": "execute_result",
          "data": {
            "text/plain": [
              "<matplotlib.image.AxesImage at 0x7fec4fa54dd0>"
            ]
          },
          "metadata": {},
          "execution_count": 13
        },
        {
          "output_type": "display_data",
          "data": {
            "text/plain": [
              "<Figure size 432x288 with 1 Axes>"
            ],
            "image/png": "[encoded data removed]"
          },
          "metadata": {
            "needs_background": "light"
          }
        }
      ]
    },
    {
      "cell_type": "markdown",
      "source": [
        "**例２. 3枚目の画像を表示する。**\n",
        "\n",
        "---"
      ],
      "metadata": {
        "id": "FdIs5KV684Bd"
      }
    },
    {
      "cell_type": "code",
      "source": [
        "plt.imshow(x_train[2, :, :, :])"
      ],
      "metadata": {
        "colab": {
          "base_uri": "https://localhost:8080/",
          "height": 282
        },
        "outputId": "cb5b27d4-b5e8-47dd-8304-b49ce126b78a",
        "id": "IBeMK9Iv84Bd"
      },
      "execution_count": null,
      "outputs": [
        {
          "output_type": "execute_result",
          "data": {
            "text/plain": [
              "<matplotlib.image.AxesImage at 0x7fec4f9d3790>"
            ]
          },
          "metadata": {},
          "execution_count": 14
        },
        {
          "output_type": "display_data",
          "data": {
            "text/plain": [
              "<Figure size 432x288 with 1 Axes>"
            ],
            "image/png": "[encoded data removed]"
          },
          "metadata": {
            "needs_background": "light"
          }
        }
      ]
    },
    {
      "cell_type": "markdown",
      "source": [
        "### shape[1]は高さを表す\n"
      ],
      "metadata": {
        "id": "n5HdNmcHLvvf"
      }
    },
    {
      "cell_type": "markdown",
      "source": [
        "**x_train.shape[1] の次元は、画像の上端からの高さを表します。**"
      ],
      "metadata": {
        "id": "iAmq1nbzCx4O"
      }
    },
    {
      "cell_type": "markdown",
      "source": [
        "**例. 画像の上端から16 pxまでの範囲を表示する。**\n",
        "\n",
        "---"
      ],
      "metadata": {
        "id": "lajF1RAnDoJF"
      }
    },
    {
      "cell_type": "code",
      "source": [
        "plt.imshow(x_train[0, :16, :, :])"
      ],
      "metadata": {
        "colab": {
          "base_uri": "https://localhost:8080/",
          "height": 232
        },
        "id": "oeDAD-hkDHhu",
        "outputId": "518a0eaa-c460-4910-e6ca-60bd978327e4"
      },
      "execution_count": null,
      "outputs": [
        {
          "output_type": "execute_result",
          "data": {
            "text/plain": [
              "<matplotlib.image.AxesImage at 0x7fec4f942c10>"
            ]
          },
          "metadata": {},
          "execution_count": 15
        },
        {
          "output_type": "display_data",
          "data": {
            "text/plain": [
              "<Figure size 432x288 with 1 Axes>"
            ],
            "image/png": "[encoded data removed]"
          },
          "metadata": {
            "needs_background": "light"
          }
        }
      ]
    },
    {
      "cell_type": "markdown",
      "source": [
        "### shape[2]は幅を表す\n"
      ],
      "metadata": {
        "id": "xZILJl-iNEA9"
      }
    },
    {
      "cell_type": "markdown",
      "source": [
        "**x_train.shape[2] の次元は、画像の左端からの幅を表します。**"
      ],
      "metadata": {
        "id": "A0zASTM2FldV"
      }
    },
    {
      "cell_type": "markdown",
      "source": [
        "**例. 画像の左端から16 pxまでの範囲を表示する。**\n",
        "\n",
        "---"
      ],
      "metadata": {
        "id": "Tj5v4Q94FldW"
      }
    },
    {
      "cell_type": "code",
      "source": [
        "plt.imshow(x_train[0, :, :16, :])"
      ],
      "metadata": {
        "colab": {
          "base_uri": "https://localhost:8080/",
          "height": 282
        },
        "outputId": "e980fb94-c9b8-4fbf-b66c-de6b42a395c8",
        "id": "QX1svzevFldW"
      },
      "execution_count": null,
      "outputs": [
        {
          "output_type": "execute_result",
          "data": {
            "text/plain": [
              "<matplotlib.image.AxesImage at 0x7fec4f8bb710>"
            ]
          },
          "metadata": {},
          "execution_count": 16
        },
        {
          "output_type": "display_data",
          "data": {
            "text/plain": [
              "<Figure size 432x288 with 1 Axes>"
            ],
            "image/png": "[encoded data removed]"
          },
          "metadata": {
            "needs_background": "light"
          }
        }
      ]
    },
    {
      "cell_type": "markdown",
      "source": [
        "### shape[3]はRGB値を表す"
      ],
      "metadata": {
        "id": "oBUw8dIuNraN"
      }
    },
    {
      "cell_type": "markdown",
      "source": [
        "**x_train.shape[3] の次元は、画像のRGB値を表します。**"
      ],
      "metadata": {
        "id": "gx9igTkVB82o"
      }
    },
    {
      "cell_type": "markdown",
      "source": [
        "**例１. 画像のR成分のみを表示する。**\n",
        "\n",
        "---"
      ],
      "metadata": {
        "id": "iyGWH3RRGFje"
      }
    },
    {
      "cell_type": "code",
      "source": [
        "x_train[0, :, :, (1, 2)] = 0\n",
        "x_train[0]"
      ],
      "metadata": {
        "colab": {
          "base_uri": "https://localhost:8080/"
        },
        "id": "XVYhN4ju7C_M",
        "outputId": "8804976d-4be9-4b47-aa7b-d3920f616017"
      },
      "execution_count": null,
      "outputs": [
        {
          "output_type": "execute_result",
          "data": {
            "text/plain": [
              "array([[[ 59,   0,   0],\n",
              "        [ 43,   0,   0],\n",
              "        [ 50,   0,   0],\n",
              "        ...,\n",
              "        [158,   0,   0],\n",
              "        [152,   0,   0],\n",
              "        [148,   0,   0]],\n",
              "\n",
              "       [[ 16,   0,   0],\n",
              "        [  0,   0,   0],\n",
              "        [ 18,   0,   0],\n",
              "        ...,\n",
              "        [123,   0,   0],\n",
              "        [119,   0,   0],\n",
              "        [122,   0,   0]],\n",
              "\n",
              "       [[ 25,   0,   0],\n",
              "        [ 16,   0,   0],\n",
              "        [ 49,   0,   0],\n",
              "        ...,\n",
              "        [118,   0,   0],\n",
              "        [120,   0,   0],\n",
              "        [109,   0,   0]],\n",
              "\n",
              "       ...,\n",
              "\n",
              "       [[208,   0,   0],\n",
              "        [201,   0,   0],\n",
              "        [198,   0,   0],\n",
              "        ...,\n",
              "        [160,   0,   0],\n",
              "        [ 56,   0,   0],\n",
              "        [ 53,   0,   0]],\n",
              "\n",
              "       [[180,   0,   0],\n",
              "        [173,   0,   0],\n",
              "        [186,   0,   0],\n",
              "        ...,\n",
              "        [184,   0,   0],\n",
              "        [ 97,   0,   0],\n",
              "        [ 83,   0,   0]],\n",
              "\n",
              "       [[177,   0,   0],\n",
              "        [168,   0,   0],\n",
              "        [179,   0,   0],\n",
              "        ...,\n",
              "        [216,   0,   0],\n",
              "        [151,   0,   0],\n",
              "        [123,   0,   0]]], dtype=uint8)"
            ]
          },
          "metadata": {},
          "execution_count": 17
        }
      ]
    },
    {
      "cell_type": "code",
      "source": [
        "plt.imshow(x_train[0])"
      ],
      "metadata": {
        "colab": {
          "base_uri": "https://localhost:8080/",
          "height": 282
        },
        "id": "zYM4Ihu6bRhD",
        "outputId": "2f1c9b47-884b-4975-f1de-bbe17107c62b"
      },
      "execution_count": null,
      "outputs": [
        {
          "output_type": "execute_result",
          "data": {
            "text/plain": [
              "<matplotlib.image.AxesImage at 0x7fec4f81d6d0>"
            ]
          },
          "metadata": {},
          "execution_count": 18
        },
        {
          "output_type": "display_data",
          "data": {
            "text/plain": [
              "<Figure size 432x288 with 1 Axes>"
            ],
            "image/png": "[encoded data removed]"
          },
          "metadata": {
            "needs_background": "light"
          }
        }
      ]
    },
    {
      "cell_type": "markdown",
      "source": [
        "**例２. 画像のG成分のみを表示する。**\n",
        "\n",
        "\n",
        "---\n",
        "\n",
        "\n"
      ],
      "metadata": {
        "id": "7QOoI_9eG5LB"
      }
    },
    {
      "cell_type": "code",
      "source": [
        "x_train[0, :, :, (0, 2)] = 0\n",
        "x_train[0]"
      ],
      "metadata": {
        "colab": {
          "base_uri": "https://localhost:8080/"
        },
        "outputId": "cdd95ae8-fcb5-4c90-afb0-cd2cbae07a03",
        "id": "IJpZstXzG5LG"
      },
      "execution_count": null,
      "outputs": [
        {
          "output_type": "execute_result",
          "data": {
            "text/plain": [
              "array([[[  0,  62,   0],\n",
              "        [  0,  46,   0],\n",
              "        [  0,  48,   0],\n",
              "        ...,\n",
              "        [  0, 132,   0],\n",
              "        [  0, 125,   0],\n",
              "        [  0, 124,   0]],\n",
              "\n",
              "       [[  0,  20,   0],\n",
              "        [  0,   0,   0],\n",
              "        [  0,   8,   0],\n",
              "        ...,\n",
              "        [  0,  88,   0],\n",
              "        [  0,  83,   0],\n",
              "        [  0,  87,   0]],\n",
              "\n",
              "       [[  0,  24,   0],\n",
              "        [  0,   7,   0],\n",
              "        [  0,  27,   0],\n",
              "        ...,\n",
              "        [  0,  84,   0],\n",
              "        [  0,  84,   0],\n",
              "        [  0,  73,   0]],\n",
              "\n",
              "       ...,\n",
              "\n",
              "       [[  0, 170,   0],\n",
              "        [  0, 153,   0],\n",
              "        [  0, 161,   0],\n",
              "        ...,\n",
              "        [  0, 133,   0],\n",
              "        [  0,  31,   0],\n",
              "        [  0,  34,   0]],\n",
              "\n",
              "       [[  0, 139,   0],\n",
              "        [  0, 123,   0],\n",
              "        [  0, 144,   0],\n",
              "        ...,\n",
              "        [  0, 148,   0],\n",
              "        [  0,  62,   0],\n",
              "        [  0,  53,   0]],\n",
              "\n",
              "       [[  0, 144,   0],\n",
              "        [  0, 129,   0],\n",
              "        [  0, 142,   0],\n",
              "        ...,\n",
              "        [  0, 184,   0],\n",
              "        [  0, 118,   0],\n",
              "        [  0,  92,   0]]], dtype=uint8)"
            ]
          },
          "metadata": {},
          "execution_count": 26
        }
      ]
    },
    {
      "cell_type": "code",
      "source": [
        "plt.imshow(x_train[0])"
      ],
      "metadata": {
        "colab": {
          "base_uri": "https://localhost:8080/",
          "height": 282
        },
        "outputId": "7158c5cd-98e0-4308-a0b9-cadbcd2d719c",
        "id": "bKZywNMSG5LG"
      },
      "execution_count": null,
      "outputs": [
        {
          "output_type": "execute_result",
          "data": {
            "text/plain": [
              "<matplotlib.image.AxesImage at 0x7fec4f5e5f10>"
            ]
          },
          "metadata": {},
          "execution_count": 27
        },
        {
          "output_type": "display_data",
          "data": {
            "text/plain": [
              "<Figure size 432x288 with 1 Axes>"
            ],
            "image/png": "[encoded data removed]"
          },
          "metadata": {
            "needs_background": "light"
          }
        }
      ]
    },
    {
      "cell_type": "markdown",
      "source": [
        "**例３. 画像のB成分のみを表示する。**\n",
        "\n",
        "\n",
        "---\n",
        "\n",
        "\n"
      ],
      "metadata": {
        "id": "5JCyKSW8IaUi"
      }
    },
    {
      "cell_type": "code",
      "source": [
        "x_train[0, :, :, (0, 1)] = 0\n",
        "x_train[0]"
      ],
      "metadata": {
        "colab": {
          "base_uri": "https://localhost:8080/"
        },
        "outputId": "5f6654e2-8c05-4976-b94e-6cb702e9e009",
        "id": "UcRngX50IaUj"
      },
      "execution_count": null,
      "outputs": [
        {
          "output_type": "execute_result",
          "data": {
            "text/plain": [
              "array([[[  0,   0,  63],\n",
              "        [  0,   0,  45],\n",
              "        [  0,   0,  43],\n",
              "        ...,\n",
              "        [  0,   0, 108],\n",
              "        [  0,   0, 102],\n",
              "        [  0,   0, 103]],\n",
              "\n",
              "       [[  0,   0,  20],\n",
              "        [  0,   0,   0],\n",
              "        [  0,   0,   0],\n",
              "        ...,\n",
              "        [  0,   0,  55],\n",
              "        [  0,   0,  50],\n",
              "        [  0,   0,  57]],\n",
              "\n",
              "       [[  0,   0,  21],\n",
              "        [  0,   0,   0],\n",
              "        [  0,   0,   8],\n",
              "        ...,\n",
              "        [  0,   0,  50],\n",
              "        [  0,   0,  50],\n",
              "        [  0,   0,  42]],\n",
              "\n",
              "       ...,\n",
              "\n",
              "       [[  0,   0,  96],\n",
              "        [  0,   0,  34],\n",
              "        [  0,   0,  26],\n",
              "        ...,\n",
              "        [  0,   0,  70],\n",
              "        [  0,   0,   7],\n",
              "        [  0,   0,  20]],\n",
              "\n",
              "       [[  0,   0,  96],\n",
              "        [  0,   0,  42],\n",
              "        [  0,   0,  30],\n",
              "        ...,\n",
              "        [  0,   0,  94],\n",
              "        [  0,   0,  34],\n",
              "        [  0,   0,  34]],\n",
              "\n",
              "       [[  0,   0, 116],\n",
              "        [  0,   0,  94],\n",
              "        [  0,   0,  87],\n",
              "        ...,\n",
              "        [  0,   0, 140],\n",
              "        [  0,   0,  84],\n",
              "        [  0,   0,  72]]], dtype=uint8)"
            ]
          },
          "metadata": {},
          "execution_count": 29
        }
      ]
    },
    {
      "cell_type": "code",
      "source": [
        "plt.imshow(x_train[0])"
      ],
      "metadata": {
        "colab": {
          "base_uri": "https://localhost:8080/",
          "height": 282
        },
        "outputId": "4892520e-c990-4c55-9087-7f4a785f8a7d",
        "id": "f2-MstNhIaUj"
      },
      "execution_count": null,
      "outputs": [
        {
          "output_type": "execute_result",
          "data": {
            "text/plain": [
              "<matplotlib.image.AxesImage at 0x7fec4f5d5b50>"
            ]
          },
          "metadata": {},
          "execution_count": 30
        },
        {
          "output_type": "display_data",
          "data": {
            "text/plain": [
              "<Figure size 432x288 with 1 Axes>"
            ],
            "image/png": "[encoded data removed]"
          },
          "metadata": {
            "needs_background": "light"
          }
        }
      ]
    },
    {
      "cell_type": "markdown",
      "source": [
        "### 応用：ある範囲の画像を表示する\n"
      ],
      "metadata": {
        "id": "20qunsvYfvFJ"
      }
    },
    {
      "cell_type": "markdown",
      "source": [
        "**一般的に、画像の左上を原点とし、n 枚目の画像について、  \n",
        "$y_1$ ≦ $y$ ≦ $y_2$ px、$x_1$ ≦ $x$ ≦ $x_2$ px の範囲の画像を表示するには、次のように書ける。**  \n",
        "\n",
        "\\begin{equation}\n",
        "  plt.imshow\\:(x\\verb|_|train\\:[\\;n-1,\\;\\;y_1-1:y_2,\\;\\;x_1-1:x_2,\\;\\;:\\;])\n",
        "\\end{equation}\n",
        "\n",
        "\n",
        "\n",
        "\n",
        "\n"
      ],
      "metadata": {
        "id": "w0NjlJt0g3GO"
      }
    },
    {
      "cell_type": "markdown",
      "source": [
        "**例. 画像を縦横に４分割した範囲のうち、左下の範囲の画像を表示する。**\n",
        "\n",
        "\n",
        "---\n",
        "\n",
        "\n"
      ],
      "metadata": {
        "id": "LbqsXnCm6iDc"
      }
    },
    {
      "cell_type": "code",
      "source": [
        "plt.imshow(x_train[0, 16:32, 0:16, :])"
      ],
      "metadata": {
        "colab": {
          "base_uri": "https://localhost:8080/",
          "height": 282
        },
        "id": "dbyO0knj1y8_",
        "outputId": "979c9bd2-bf8b-451e-9de3-e66d1d7b3333"
      },
      "execution_count": null,
      "outputs": [
        {
          "output_type": "execute_result",
          "data": {
            "text/plain": [
              "<matplotlib.image.AxesImage at 0x7fec4f548590>"
            ]
          },
          "metadata": {},
          "execution_count": 33
        },
        {
          "output_type": "display_data",
          "data": {
            "text/plain": [
              "<Figure size 432x288 with 1 Axes>"
            ],
            "image/png": "[encoded data removed]"
          },
          "metadata": {
            "needs_background": "light"
          }
        }
      ]
    },
    {
      "cell_type": "code",
      "source": [
        "plt.imshow(x_train[0, :, :, :])"
      ],
      "metadata": {
        "colab": {
          "base_uri": "https://localhost:8080/",
          "height": 282
        },
        "id": "WyC6A1DC39yv",
        "outputId": "7b5213b6-1d27-498e-fc3d-386f4acb538a"
      },
      "execution_count": null,
      "outputs": [
        {
          "output_type": "execute_result",
          "data": {
            "text/plain": [
              "<matplotlib.image.AxesImage at 0x7fec4f4c6210>"
            ]
          },
          "metadata": {},
          "execution_count": 34
        },
        {
          "output_type": "display_data",
          "data": {
            "text/plain": [
              "<Figure size 432x288 with 1 Axes>"
            ],
            "image/png": "[encoded data removed]"
          },
          "metadata": {
            "needs_background": "light"
          }
        }
      ]
    }
  ]
}