{
  "nbformat": 4,
  "nbformat_minor": 0,
  "metadata": {
    "colab": {
      "name": "cifar10_y_train.ipynb",
      "provenance": [],
      "authorship_tag": "ABX9TyMuY3hY3idKqnoZ3eq1+2qt",
      "include_colab_link": true
    },
    "kernelspec": {
      "name": "python3",
      "display_name": "Python 3"
    },
    "language_info": {
      "name": "python"
    }
  },
  "cells": [
    {
      "cell_type": "markdown",
      "metadata": {
        "id": "view-in-github",
        "colab_type": "text"
      },
      "source": [
        "<a href=\"https://colab.research.google.com/github/toshinakatsu/cifar10/blob/main/y_train.ipynb\" target=\"_parent\"><img src=\"https://colab.research.google.com/assets/colab-badge.svg\" alt=\"Open In Colab\"/></a>"
      ]
    },
    {
      "cell_type": "markdown",
      "source": [
        "## y_trainについて"
      ],
      "metadata": {
        "id": "IEfoRnPuPB0V"
      }
    },
    {
      "cell_type": "code",
      "source": [
        "y_train.shape"
      ],
      "metadata": {
        "colab": {
          "base_uri": "https://localhost:8080/"
        },
        "id": "o2oAxiiQn1ei",
        "outputId": "c1faa1c5-fa87-437a-cb3a-f255c1ff38d7"
      },
      "execution_count": null,
      "outputs": [
        {
          "output_type": "execute_result",
          "data": {
            "text/plain": [
              "(50000, 1)"
            ]
          },
          "metadata": {},
          "execution_count": 65
        }
      ]
    },
    {
      "cell_type": "code",
      "source": [
        "y_train"
      ],
      "metadata": {
        "colab": {
          "base_uri": "https://localhost:8080/"
        },
        "id": "DUXOkFyUzYoB",
        "outputId": "56a19e36-2b4c-432b-8213-b52e40aad9a1"
      },
      "execution_count": null,
      "outputs": [
        {
          "output_type": "execute_result",
          "data": {
            "text/plain": [
              "array([[6],\n",
              "       [9],\n",
              "       [9],\n",
              "       ...,\n",
              "       [9],\n",
              "       [1],\n",
              "       [1]], dtype=uint8)"
            ]
          },
          "metadata": {},
          "execution_count": 11
        }
      ]
    },
    {
      "cell_type": "markdown",
      "source": [
        "### shape[0]は個数を表す"
      ],
      "metadata": {
        "id": "OSk3FcCPuZ6f"
      }
    },
    {
      "cell_type": "markdown",
      "source": [
        "**y_train.shape[0] の次元は、ラベルの個数を表します。**"
      ],
      "metadata": {
        "id": "6YKP3ftSvQ_8"
      }
    },
    {
      "cell_type": "markdown",
      "source": [
        "**例１. ラベル0の個数を取得する。**\n",
        "\n",
        "---"
      ],
      "metadata": {
        "id": "apGSTHgRvjrI"
      }
    },
    {
      "cell_type": "code",
      "source": [
        "np.where(y_train == 0)"
      ],
      "metadata": {
        "colab": {
          "base_uri": "https://localhost:8080/"
        },
        "id": "ZwZdtENI-0dx",
        "outputId": "0937962e-ea71-453d-940c-4d5f4efe76f9"
      },
      "execution_count": null,
      "outputs": [
        {
          "output_type": "execute_result",
          "data": {
            "text/plain": [
              "(array([   29,    30,    35, ..., 49941, 49992, 49994]),\n",
              " array([0, 0, 0, ..., 0, 0, 0]))"
            ]
          },
          "metadata": {},
          "execution_count": 8
        }
      ]
    },
    {
      "cell_type": "code",
      "source": [
        "# ラベル0のインデックスを取得する。\n",
        "np.where(y_train == 0)[0]"
      ],
      "metadata": {
        "colab": {
          "base_uri": "https://localhost:8080/"
        },
        "id": "_w2oGMMmtfbg",
        "outputId": "5820c34a-911d-4d27-8d7d-4e82b251f02b"
      },
      "execution_count": null,
      "outputs": [
        {
          "output_type": "execute_result",
          "data": {
            "text/plain": [
              "array([   29,    30,    35, ..., 49941, 49992, 49994])"
            ]
          },
          "metadata": {},
          "execution_count": 32
        }
      ]
    },
    {
      "cell_type": "code",
      "source": [
        "# ラベル0の個数を取得する。\n",
        "len(np.where(y_train == 0)[0])"
      ],
      "metadata": {
        "colab": {
          "base_uri": "https://localhost:8080/"
        },
        "id": "POshhiCSWyVY",
        "outputId": "09b044bf-8c22-44c2-e3b0-7540e8ec3e3e"
      },
      "execution_count": null,
      "outputs": [
        {
          "output_type": "execute_result",
          "data": {
            "text/plain": [
              "5000"
            ]
          },
          "metadata": {},
          "execution_count": 17
        }
      ]
    },
    {
      "cell_type": "markdown",
      "source": [
        "**例２. 各ラベルの個数を取得する。**\n",
        "\n",
        "---"
      ],
      "metadata": {
        "id": "MRoEO2AZw-dx"
      }
    },
    {
      "cell_type": "code",
      "source": [
        "for i in range(10):\n",
        "    print(f'ラベル:{i} は、{len(np.where(y_train == i)[0])} 個あります。')"
      ],
      "metadata": {
        "colab": {
          "base_uri": "https://localhost:8080/"
        },
        "id": "bIXY18x1YRt-",
        "outputId": "f536742f-f93a-45e9-f38e-df341063ffa5"
      },
      "execution_count": null,
      "outputs": [
        {
          "output_type": "stream",
          "name": "stdout",
          "text": [
            "ラベル:0 は、5000 個あります。\n",
            "ラベル:1 は、5000 個あります。\n",
            "ラベル:2 は、5000 個あります。\n",
            "ラベル:3 は、5000 個あります。\n",
            "ラベル:4 は、5000 個あります。\n",
            "ラベル:5 は、5000 個あります。\n",
            "ラベル:6 は、5000 個あります。\n",
            "ラベル:7 は、5000 個あります。\n",
            "ラベル:8 は、5000 個あります。\n",
            "ラベル:9 は、5000 個あります。\n"
          ]
        }
      ]
    },
    {
      "cell_type": "markdown",
      "source": [
        "**例２の実行結果から、ラベル i は常に5000 個あることが分かります。**"
      ],
      "metadata": {
        "id": "M32r0zWiJNAp"
      }
    },
    {
      "cell_type": "markdown",
      "source": [
        "### shape[1]はラベルを表す"
      ],
      "metadata": {
        "id": "39DH6XYmyr56"
      }
    },
    {
      "cell_type": "markdown",
      "source": [
        "**y_train.shape[1] の次元は、ラベルを表します。**"
      ],
      "metadata": {
        "id": "GYXYgu32yr56"
      }
    },
    {
      "cell_type": "markdown",
      "source": [
        "**例１. 2個目のラベルを取得する。**\n",
        "\n",
        "---"
      ],
      "metadata": {
        "id": "2WEcA84Fy1AP"
      }
    },
    {
      "cell_type": "code",
      "source": [
        "y_train"
      ],
      "metadata": {
        "colab": {
          "base_uri": "https://localhost:8080/"
        },
        "id": "TgVUi7dd0mk3",
        "outputId": "c8402ce1-306d-481e-9365-f5c44358ed5c"
      },
      "execution_count": null,
      "outputs": [
        {
          "output_type": "execute_result",
          "data": {
            "text/plain": [
              "array([[6],\n",
              "       [9],\n",
              "       [9],\n",
              "       ...,\n",
              "       [9],\n",
              "       [1],\n",
              "       [1]], dtype=uint8)"
            ]
          },
          "metadata": {},
          "execution_count": 14
        }
      ]
    },
    {
      "cell_type": "code",
      "source": [
        "# 2個目のラベルを取得する。\n",
        "y_train[1, 0]"
      ],
      "metadata": {
        "colab": {
          "base_uri": "https://localhost:8080/"
        },
        "id": "9QMMiCah0dMo",
        "outputId": "b2e435a9-16f6-40e8-c448-ddeb8f2fda95"
      },
      "execution_count": null,
      "outputs": [
        {
          "output_type": "execute_result",
          "data": {
            "text/plain": [
              "9"
            ]
          },
          "metadata": {},
          "execution_count": 17
        }
      ]
    },
    {
      "cell_type": "code",
      "source": [
        "# 2枚目の画像を表示する。\n",
        "plt.imshow(x_train[1, :, :, :])"
      ],
      "metadata": {
        "colab": {
          "base_uri": "https://localhost:8080/",
          "height": 282
        },
        "outputId": "3e7db9ab-a60d-4b29-b963-0be36fdbf3db",
        "id": "6EED0w_T0RHw"
      },
      "execution_count": null,
      "outputs": [
        {
          "output_type": "execute_result",
          "data": {
            "text/plain": [
              "<matplotlib.image.AxesImage at 0x7f842219b050>"
            ]
          },
          "metadata": {},
          "execution_count": 18
        },
        {
          "output_type": "display_data",
          "data": {
            "text/plain": [
              "<Figure size 432x288 with 1 Axes>"
            ],
            "image/png": "[encoded data removed]"
          },
          "metadata": {
            "needs_background": "light"
          }
        }
      ]
    },
    {
      "cell_type": "markdown",
      "source": [
        "**例２. 3個目のラベルを取得する。**\n",
        "\n",
        "---"
      ],
      "metadata": {
        "id": "r1SMcPhM2jL6"
      }
    },
    {
      "cell_type": "code",
      "source": [
        "# 3個目のラベルを取得する。\n",
        "y_train[2, 0]"
      ],
      "metadata": {
        "colab": {
          "base_uri": "https://localhost:8080/"
        },
        "outputId": "b2e435a9-16f6-40e8-c448-ddeb8f2fda95",
        "id": "eap2ZJT80xw0"
      },
      "execution_count": null,
      "outputs": [
        {
          "output_type": "execute_result",
          "data": {
            "text/plain": [
              "9"
            ]
          },
          "metadata": {},
          "execution_count": 17
        }
      ]
    },
    {
      "cell_type": "code",
      "source": [
        "# 3枚目の画像を表示する。\n",
        "plt.imshow(x_train[2, :, :, :])"
      ],
      "metadata": {
        "colab": {
          "base_uri": "https://localhost:8080/",
          "height": 282
        },
        "outputId": "cc6e90ca-5b7e-443c-a6af-835f13f74ed4",
        "id": "68N79kXU0xw1"
      },
      "execution_count": null,
      "outputs": [
        {
          "output_type": "execute_result",
          "data": {
            "text/plain": [
              "<matplotlib.image.AxesImage at 0x7f842212b9d0>"
            ]
          },
          "metadata": {},
          "execution_count": 19
        },
        {
          "output_type": "display_data",
          "data": {
            "text/plain": [
              "<Figure size 432x288 with 1 Axes>"
            ],
            "image/png": "[encoded data removed]"
          },
          "metadata": {
            "needs_background": "light"
          }
        }
      ]
    },
    {
      "cell_type": "markdown",
      "source": [
        "**例１、例２の実行結果から、トラックの画像とラベル 9 が対応していると言えます。**  \n",
        "**また、一般的に、n 枚目の画像と n 個目のラベルが対応していると言えます。**"
      ],
      "metadata": {
        "id": "n67tvozp1fM0"
      }
    },
    {
      "cell_type": "markdown",
      "source": [
        "**例. 49998枚目の画像とラベルを表示する。**\n",
        "\n",
        "---"
      ],
      "metadata": {
        "id": "zE6Sfptk8FKH"
      }
    },
    {
      "cell_type": "code",
      "source": [
        "y_train"
      ],
      "metadata": {
        "colab": {
          "base_uri": "https://localhost:8080/"
        },
        "outputId": "c8402ce1-306d-481e-9365-f5c44358ed5c",
        "id": "CocVSzgSB3qg"
      },
      "execution_count": null,
      "outputs": [
        {
          "output_type": "execute_result",
          "data": {
            "text/plain": [
              "array([[6],\n",
              "       [9],\n",
              "       [9],\n",
              "       ...,\n",
              "       [9],\n",
              "       [1],\n",
              "       [1]], dtype=uint8)"
            ]
          },
          "metadata": {},
          "execution_count": 14
        }
      ]
    },
    {
      "cell_type": "code",
      "source": [
        "# 49998枚目の画像を表示する。\n",
        "plt.imshow(x_train[49997, :, :, :])"
      ],
      "metadata": {
        "colab": {
          "base_uri": "https://localhost:8080/",
          "height": 282
        },
        "outputId": "66597a72-61a8-4370-e6fd-1de56eff71f5",
        "id": "eGaF0BWi8FKH"
      },
      "execution_count": null,
      "outputs": [
        {
          "output_type": "execute_result",
          "data": {
            "text/plain": [
              "<matplotlib.image.AxesImage at 0x7f8422017cd0>"
            ]
          },
          "metadata": {},
          "execution_count": 21
        },
        {
          "output_type": "display_data",
          "data": {
            "text/plain": [
              "<Figure size 432x288 with 1 Axes>"
            ],
            "image/png": "[encoded data removed]"
          },
          "metadata": {
            "needs_background": "light"
          }
        }
      ]
    },
    {
      "cell_type": "code",
      "source": [
        "# 49998個目のラベルを取得する。\n",
        "y_train[49997, 0]"
      ],
      "metadata": {
        "colab": {
          "base_uri": "https://localhost:8080/"
        },
        "outputId": "ce62b2f9-80b7-4f9d-c08e-469afa5c830e",
        "id": "dvoSB1r08FKH"
      },
      "execution_count": null,
      "outputs": [
        {
          "output_type": "execute_result",
          "data": {
            "text/plain": [
              "9"
            ]
          },
          "metadata": {},
          "execution_count": 23
        }
      ]
    }
  ]
}