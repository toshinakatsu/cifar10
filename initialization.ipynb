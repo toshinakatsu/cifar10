{
  "nbformat": 4,
  "nbformat_minor": 0,
  "metadata": {
    "colab": {
      "name": "cifar10_initialization.ipynb",
      "provenance": [],
      "authorship_tag": "ABX9TyMG+rEG9+dkWkE8kyHyDWCf",
      "include_colab_link": true
    },
    "kernelspec": {
      "name": "python3",
      "display_name": "Python 3"
    },
    "language_info": {
      "name": "python"
    }
  },
  "cells": [
    {
      "cell_type": "markdown",
      "metadata": {
        "id": "view-in-github",
        "colab_type": "text"
      },
      "source": [
        "<a href=\"https://colab.research.google.com/github/toshinakatsu/cifar10/blob/main/initialization.ipynb\" target=\"_parent\"><img src=\"https://colab.research.google.com/assets/colab-badge.svg\" alt=\"Open In Colab\"/></a>"
      ]
    },
    {
      "cell_type": "markdown",
      "source": [
        "## cifar10.load_data()による読み込み"
      ],
      "metadata": {
        "id": "t1Yyz43EIskY"
      }
    },
    {
      "cell_type": "code",
      "source": [
        "!pip install japanize-matplotlib"
      ],
      "metadata": {
        "id": "1PqBYDttelHW"
      },
      "execution_count": null,
      "outputs": []
    },
    {
      "cell_type": "code",
      "execution_count": null,
      "metadata": {
        "id": "3HeCuBbNgkaR"
      },
      "outputs": [],
      "source": [
        "import numpy as np\n",
        "import matplotlib.pyplot as plt\n",
        "from keras.datasets import cifar10\n",
        "\n",
        "# 軸ラベルなどを、文字化けしないように日本語表示するときに使う。\n",
        "import japanize_matplotlib\n",
        "\n",
        "(x_train, y_train), (x_test, y_test) = cifar10.load_data()"
      ]
    }
  ]
}