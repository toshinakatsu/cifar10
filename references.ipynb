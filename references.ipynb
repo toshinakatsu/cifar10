{
  "nbformat": 4,
  "nbformat_minor": 0,
  "metadata": {
    "colab": {
      "name": "cifar10_references.ipynb",
      "provenance": [],
      "toc_visible": true,
      "authorship_tag": "ABX9TyP3fNzYlfy9AVl2qcDzCmLE",
      "include_colab_link": true
    },
    "kernelspec": {
      "name": "python3",
      "display_name": "Python 3"
    },
    "language_info": {
      "name": "python"
    }
  },
  "cells": [
    {
      "cell_type": "markdown",
      "metadata": {
        "id": "view-in-github",
        "colab_type": "text"
      },
      "source": [
        "<a href=\"https://colab.research.google.com/github/toshinakatsu/cifar10/blob/main/references.ipynb\" target=\"_parent\"><img src=\"https://colab.research.google.com/assets/colab-badge.svg\" alt=\"Open In Colab\"/></a>"
      ]
    },
    {
      "cell_type": "markdown",
      "source": [
        "## 参考"
      ],
      "metadata": {
        "id": "DNOEn09Lh7wd"
      }
    },
    {
      "cell_type": "markdown",
      "source": [
        "### 画像配列について"
      ],
      "metadata": {
        "id": "6JzhIuQDkGkY"
      }
    },
    {
      "cell_type": "markdown",
      "source": [
        "・[【Your 3D】Pythonで画像処理 画像配列とRGBを理解しよう！](https://your-3d.com/python-rgb/)\n",
        "\n",
        "・[【AnalyticsVidhya】How Images are stored in the computer?](https://www.analyticsvidhya.com/blog/2021/03/grayscale-and-rgb-format-for-storing-images/)\n"
      ],
      "metadata": {
        "id": "x01Xv8bKU50R"
      }
    },
    {
      "cell_type": "markdown",
      "source": [
        "### 多次元配列について"
      ],
      "metadata": {
        "id": "WKqS63tIld5J"
      }
    },
    {
      "cell_type": "markdown",
      "source": [
        "・[【DeepAge】あなたのデータサイエンス力を\n",
        "飛躍的に向上させるNumPy徹底入門](https://deepage.net/features/numpy/)"
      ],
      "metadata": {
        "id": "EA4xQtYLSj-O"
      }
    },
    {
      "cell_type": "markdown",
      "source": [
        "### cifar10 について"
      ],
      "metadata": {
        "id": "ePx3Dkli3uxl"
      }
    },
    {
      "cell_type": "markdown",
      "source": [
        "\n",
        "・[【atmarkit】CIFAR-10：物体カラー写真（乗り物や動物など）の画像データセット](https://atmarkit.itmedia.co.jp/ait/articles/2006/10/news021.html)\n",
        "\n",
        "・[【cs231n】Example image classification dataset: CIFAR-10](https://cs231n.github.io/classification/)\n",
        "\n",
        "・[【Alex Krizhevsky】The CIFAR-10 dataset](http://www.cs.toronto.edu/~kriz/cifar.html)\n",
        "\n",
        "・[【keras-team】cifar10.py](https://github.com/keras-team/keras/blob/master/keras/datasets/cifar10.py)"
      ],
      "metadata": {
        "id": "yqQox__75l3B"
      }
    },
    {
      "cell_type": "markdown",
      "source": [
        "### 画像表示について"
      ],
      "metadata": {
        "id": "BnQIK0O6tqpT"
      }
    },
    {
      "cell_type": "markdown",
      "source": [
        "・[【YutaKaのPython教室】Matplotlib plt.subplots()の使い方｜FigureとAxesを同時生成！](https://www.yutaka-note.com/entry/matplotlib_subplots)\n",
        "\n",
        "・[【分析ノート】matplotlibのdpiとfigsizeの正確な意味を調べてみた](https://analytics-note.xyz/programming/matplotlib-figsize-dpi/)\n"
      ],
      "metadata": {
        "id": "fOdLmMB-l2KI"
      }
    },
    {
      "cell_type": "markdown",
      "source": [
        "### 解像度について"
      ],
      "metadata": {
        "id": "ctnX4zKVz7pv"
      }
    },
    {
      "cell_type": "markdown",
      "source": [
        "・[【Smile Sharing】解像度とは？画素とは？dpiとは？知ってるようで知らない写真のこと、解説します！](https://smile-sharing.co.jp/blog/03/pixel_dpi.html)\n",
        "\n",
        "\n",
        "・[【IT用語辞典 e-Words】dpi, ppi](https://e-words.jp/w/dpi.html)\n",
        "\n",
        "・[【BOXIL】解像度（DPI）とは？画質や画素数（ピクセル）高さの違いを簡単に解説](https://boxil.jp/mag/a3666/#3666-5-1)\n",
        "\n",
        "・[【CreatorZin】解像度とdpiの違いとは？画像サイズの計算とおすすめの印刷用設定](https://creatorzine.jp/article/detail/3072)\n",
        "\n",
        "・[【INDETAIL】「解像度」の理解があいまいだったので備忘録としてまとめてみた](https://www.indetail.co.jp/blog/171208/)"
      ],
      "metadata": {
        "id": "Vqn5zFDGuIHt"
      }
    },
    {
      "cell_type": "markdown",
      "source": [
        "### Python について"
      ],
      "metadata": {
        "id": "uA2hlfj70Jhr"
      }
    },
    {
      "cell_type": "markdown",
      "source": [
        "・[【atmarkit】Python入門](https://atmarkit.itmedia.co.jp/ait/subtop/features/di/pybasic_index.html)"
      ],
      "metadata": {
        "id": "r1sC7thP1shJ"
      }
    },
    {
      "cell_type": "markdown",
      "source": [
        "### LaTeX について"
      ],
      "metadata": {
        "id": "tBH2RkqB3XII"
      }
    },
    {
      "cell_type": "markdown",
      "source": [
        "・[【TEX Wiki】LaTeX入門](https://texwiki.texjp.org/?LaTeX%E5%85%A5%E9%96%80)\n",
        "\n",
        "・[【数式コマンドリファレンス】LaTeX入門](https://medemanabu.net/latex/)"
      ],
      "metadata": {
        "id": "ScInF8Ie3m8m"
      }
    }
  ]
}